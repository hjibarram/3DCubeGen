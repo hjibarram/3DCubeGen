{
 "cells": [
  {
   "cell_type": "code",
   "execution_count": 1,
   "id": "ca3d6ac2",
   "metadata": {},
   "outputs": [],
   "source": [
    "from CubeGen.tools.cubegen import map_ifu\n",
    "from CubeGen.tools.mapgen import gen_map\n",
    "import CubeGen.tools.tools as tools\n",
    "import os"
   ]
  },
  {
   "cell_type": "markdown",
   "id": "4db31f2b",
   "metadata": {},
   "source": [
    "## Genarate a data cube\n",
    "Definition of main keywords:\n",
    "\n",
    "**out_path** is the output directory for the cube\n",
    "\n",
    "**redux_ver** is the DRP reduction version of the lvmCFrame \n",
    "\n",
    "**redux_dir** is the output directory of the DRP\n",
    "\n",
    "**sigm_s** is the somth kernel size used to reconstruct the cube\n",
    "\n",
    "**pix_s** is the spaxel size of the cube\n",
    "\n",
    "**alph_s** is the kernel \"shape\" factor, a value equal of 2 returns a Gaussian kerner, larger than 2 returns a sharper kernel\n",
    "\n",
    "**flu16** is a keyword to return a cube with units of 10^{-16} erg/s/cm2/A, if False, the units are erg/s/cm2/A\n",
    "\n",
    "**read_spall** is an optional funtion to read the DRP drpall file, and looks for all exposures, tiles, and mjd that corresponds for an specific target\n",
    "\n",
    "**nameF** is the output root name of the data cube\n",
    "\n",
    "**tileglist** is a list of the tilegrouops were the lvmCFrame are located\n",
    "\n",
    "**tilelist** is a list of the tile directories were the lvmCFrame are located\n",
    "\n",
    "**explist** is a list of the expousure numbers of the lvmCFrame files\n",
    "\n",
    "**mjd** is a list of the mjd directories were the lvmCFrame are located\n",
    "\n",
    "**use_slitmap** use the astrometry saved in the slitmap header\n",
    "\n",
    "**pbars** activate or deactivate the progress bar\n",
    "\n",
    "**spec_range** optional, spectral range for the output cube\n",
    "\n",
    "**read_explist** is an optional funtion to read a headerless csv file that contains the tile, mjd and exposure (in that order on the file) for a desired target"
   ]
  },
  {
   "cell_type": "code",
   "execution_count": 2,
   "id": "8e88a3d7",
   "metadata": {},
   "outputs": [],
   "source": [
    "path_lvmcore=os.environ['LVMCORE_DIR']\n",
    "path_sas=os.environ['SAS_BASE_DIR']\n",
    "redux_dir=path_sas+'/sdsswork/lvm/spectro/redux'\n",
    "out_path='out_cubes/'\n",
    "redux_ver='1.0.2.dev0'\n",
    "redux_ver='1.0.3'\n",
    "redux_ver='1.0.4.dev0'\n",
    "redux_ver='1.1.1.dev0'\n",
    "type='e'\n",
    "#16-a,8-b,4-c,2-d,1-e,1/2-f,1/4-g,1/8-h,1/16-i\n",
    "if type == 'a':\n",
    "    valt=16\n",
    "if type == 'b':\n",
    "    valt=8\n",
    "if type == 'c':\n",
    "    valt=4\n",
    "if type == 'd':\n",
    "    valt=2\n",
    "if type == 'e':\n",
    "    valt=1\n",
    "if type == 'f':\n",
    "    valt=1/2\n",
    "if type == 'g':\n",
    "    valt=1/4\n",
    "if type == 'h':\n",
    "    valt=1/8\n",
    "if type == 'i':\n",
    "    valt=1/16\n",
    "if type == 'j':\n",
    "    valt=1/32\n",
    "sigm_s=17.6/2*32*valt\n",
    "pix_s=17.6/2*0.75*32*valt\n",
    "alph_s=2.0\n",
    "flu16=True\n",
    "use_slitmap=True\n",
    "pbars=True\n",
    "errors=True\n",
    "fac_sizeY=1.0#1.1#0.82#1.1#0.82\n",
    "fac_sizeX=1.0#1.1#0.65#1.1#0.65\n",
    "cent=True\n",
    "#coord_cenL=[[84.0866667,-67.3022222],[77.84833,-70.03261],[81.08625,-70.08381],]\n",
    "coord_cenL=[[0,0],[0,0],[0,0]]\n",
    "name,dit=['NGC5128'],[9]\n",
    "for it in range(0, 1):#len(name)):\n",
    "    nameF1=name[it]\n",
    "    coord_cen=coord_cenL[it]\n",
    "    explist,mjd,tilelist,tileglist=tools.read_explist(fname=nameF1.replace('N66a','N66'))\n",
    "    if dit[it] <= 160:\n",
    "        spec_range=(None,None)\n",
    "        if dit[it] < 3:\n",
    "            sigm_s=17.6/2*32*1/8\n",
    "            pix_s=17.6/2*0.75*32*1/8\n",
    "        #map_ifu(explist,nameF=nameF1,flu16=flu16,cent=cent,coord_cen=coord_cen,errors=errors,fac_sizeX=fac_sizeX,fac_sizeY=fac_sizeY,spec_range=spec_range,multiT=True,use_slitmap=use_slitmap,pbars=pbars,out_path=out_path,path_lvmcore=path_lvmcore,sigm_s=sigm_s,pix_s=pix_s,alph_s=alph_s,agcam_dir=path_sas+'/sdsswork/data/agcam/lco',redux_dir=redux_dir,redux_ver=redux_ver,tilelist=tilelist,tileglist=tileglist,mjd=mjd,basename='lvmSFrame-NAME.fits')\n",
    "    else:\n",
    "        #spec_range_l=[(3500,5150),(5150,7700),(7700,10000)]\n",
    "        spec_range_l=[(3000,4000),(4000,5000),(5000,6000),(6000,7000),(7000,8000),(8000,9000),(9000,10000)]\n",
    "        #spec_range_l=[(3000,4000),(4000,4500),(4500,5000),(5000,5500),(5500,6000),(6000,6500),(6500,7000),(7000,7500),(7500,8000),(8000,8500),(8500,9000),(9000,9500),(9500,10000)]\n",
    "        #spec_range_l=[(3000,4000),(4000,4250),(4250,4500),(4500,4750),(4750,5000),(5000,5250),(5250,5500),(5500,5750),(5750,6000),(6000,6250),(6250,6500),(6500,6750),(6750,7000),(7000,7250),(7250,7500),(7500,7750),(7750,8000),(8000,8250),(8250,8500),(8500,8750),(8750,9000),(9000,9250),(9250,9500),(9500,9750),(9750,10000)]\n",
    "        for i in range(0, len(spec_range_l)):\n",
    "            nameF=nameF1+type+'_'+\"{:0>2}\".format(str(int(i)))\n",
    "            spec_range=spec_range_l[i]\n",
    "            map_ifu(explist,nameF=nameF,flu16=flu16,cent=cent,coord_cen=coord_cen,errors=errors,fac_sizeX=fac_sizeX,fac_sizeY=fac_sizeY,spec_range=spec_range,multiT=True,use_slitmap=use_slitmap,pbars=pbars,out_path=out_path,path_lvmcore=path_lvmcore,sigm_s=sigm_s,pix_s=pix_s,alph_s=alph_s,agcam_dir=path_sas+'/sdsswork/data/agcam/lco',redux_dir=redux_dir,redux_ver=redux_ver,tilelist=tilelist,tileglist=tileglist,mjd=mjd,basename='lvmSFrame-NAME.fits')\n"
   ]
  },
  {
   "cell_type": "code",
   "execution_count": 3,
   "id": "2141e577",
   "metadata": {},
   "outputs": [
    {
     "data": {
      "application/vnd.jupyter.widget-view+json": {
       "model_id": "affe0f513eaf4363bd7b06a6bf486023",
       "version_major": 2,
       "version_minor": 0
      },
      "text/plain": [
       "  0%|          | 0/26 [00:00<?, ?it/s]"
      ]
     },
     "metadata": {},
     "output_type": "display_data"
    },
    {
     "data": {
      "application/vnd.jupyter.widget-view+json": {
       "model_id": "3a34569800e24e569709f62429a27867",
       "version_major": 2,
       "version_minor": 0
      },
      "text/plain": [
       "  0%|          | 0/15 [00:00<?, ?it/s]"
      ]
     },
     "metadata": {},
     "output_type": "display_data"
    },
    {
     "name": "stdout",
     "output_type": "stream",
     "text": [
      "out_cubes/lvmMap-NGC55_HI.fits\n"
     ]
    },
    {
     "data": {
      "application/vnd.jupyter.widget-view+json": {
       "model_id": "5123bf262e324d2bba173a2905ce6a58",
       "version_major": 2,
       "version_minor": 0
      },
      "text/plain": [
       "  0%|          | 0/26 [00:00<?, ?it/s]"
      ]
     },
     "metadata": {},
     "output_type": "display_data"
    },
    {
     "data": {
      "application/vnd.jupyter.widget-view+json": {
       "model_id": "b5883b1610a940a7a380c51fd614245e",
       "version_major": 2,
       "version_minor": 0
      },
      "text/plain": [
       "  0%|          | 0/15 [00:00<?, ?it/s]"
      ]
     },
     "metadata": {},
     "output_type": "display_data"
    },
    {
     "name": "stdout",
     "output_type": "stream",
     "text": [
      "out_cubes/lvmMap-NGC55_OIII.fits\n"
     ]
    }
   ],
   "source": [
    "zt=0.001825\n",
    "ki=3#SII narrow band\n",
    "gen_map(explist,multiT=True,nameF=nameF,out_path=out_path,fac_sizeX=fac_sizeX,fac_sizeY=fac_sizeY,use_slitmap=use_slitmap,pbars=pbars,tilelist=tilelist,tileglist=tileglist,path_lvmcore=path_lvmcore,zt=zt,ki=ki,sigm_s=sigm_s,pix_s=pix_s,alph_s=alph_s,agcam_dir=path_sas+'/sdsswork/data/agcam/lco',redux_dir=redux_dir,mjd=mjd,redux_ver=redux_ver,basename='lvmSFrame-NAME.fits')\n",
    "ki=2#Halpha narrow band\n",
    "gen_map(explist,multiT=True,nameF=nameF1,out_path=out_path,fac_sizeX=fac_sizeX,fac_sizeY=fac_sizeY,use_slitmap=use_slitmap,pbars=pbars,tilelist=tilelist,tileglist=tileglist,path_lvmcore=path_lvmcore,zt=zt,ki=ki,sigm_s=sigm_s,pix_s=pix_s,alph_s=alph_s,agcam_dir=path_sas+'/sdsswork/data/agcam/lco',redux_dir=redux_dir,mjd=mjd,redux_ver=redux_ver,basename='lvmSFrame-NAME.fits')\n",
    "ki=1#OIII narrow band\n",
    "gen_map(explist,multiT=True,nameF=nameF1,out_path=out_path,fac_sizeX=fac_sizeX,fac_sizeY=fac_sizeY,use_slitmap=use_slitmap,pbars=pbars,tilelist=tilelist,tileglist=tileglist,path_lvmcore=path_lvmcore,zt=zt,ki=ki,sigm_s=sigm_s,pix_s=pix_s,alph_s=alph_s,agcam_dir=path_sas+'/sdsswork/data/agcam/lco',redux_dir=redux_dir,mjd=mjd,redux_ver=redux_ver,basename='lvmSFrame-NAME.fits')\n"
   ]
  },
  {
   "cell_type": "code",
   "execution_count": null,
   "id": "d47559e0-6adf-4cda-952a-5fa9479b7213",
   "metadata": {},
   "outputs": [],
   "source": []
  }
 ],
 "metadata": {
  "kernelspec": {
   "display_name": "Python 3 (ipykernel)",
   "language": "python",
   "name": "python3"
  },
  "language_info": {
   "codemirror_mode": {
    "name": "ipython",
    "version": 3
   },
   "file_extension": ".py",
   "mimetype": "text/x-python",
   "name": "python",
   "nbconvert_exporter": "python",
   "pygments_lexer": "ipython3",
   "version": "3.13.2"
  }
 },
 "nbformat": 4,
 "nbformat_minor": 5
}
